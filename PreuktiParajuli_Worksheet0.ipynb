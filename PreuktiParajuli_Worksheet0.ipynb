{
  "nbformat": 4,
  "nbformat_minor": 0,
  "metadata": {
    "colab": {
      "provenance": [],
      "collapsed_sections": [
        "0KQXV1Z2uTok",
        "dBWAlYL_uf82",
        "muJVbZdqvggd",
        "4lS-s-R_zfCN",
        "YJyLF5DL2W7m"
      ]
    },
    "kernelspec": {
      "name": "python3",
      "display_name": "Python 3"
    },
    "language_info": {
      "name": "python"
    }
  },
  "cells": [
    {
      "cell_type": "markdown",
      "source": [
        "Preukti Parajuli\n",
        "\n",
        "2329243\n",
        "\n",
        "WORKSHEET-0"
      ],
      "metadata": {
        "id": "IZNyFlgl6SNf"
      }
    },
    {
      "cell_type": "markdown",
      "source": [
        "#Exercise on function"
      ],
      "metadata": {
        "id": "0KQXV1Z2uTok"
      }
    },
    {
      "cell_type": "markdown",
      "source": [
        "## TASK-01\n",
        "Create a Python program that converts between different units of measurement.\n",
        "\n",
        "\n",
        "• The program should:\n",
        "1. Prompt the user to choose the type of conversion (e.g., length, weight, volume).\n",
        "2. Ask the user to input the value to be converted.\n",
        "3. Perform the conversion and display the result.\n",
        "4. Handle potential errors, such as invalid input or unsupported conversion types.\n",
        "\n",
        "\n",
        "• Requirements:\n",
        "1. Functions: Define at least one function to perform the conversion.\n",
        "2. Error Handling: Use try-except blocks to handle invalid input (e.g., non-numeric values).\n",
        "3. User Input: Prompt the user to select the conversion type and input the value.\n",
        "4. Docstrings: Include a docstring in your function to describe its purpose, parameters, and\n",
        "return value.\n",
        "\n",
        "\n",
        "• Conversion Options:\n",
        "1. Length:\n",
        "– Convert meters (m) to feet (ft).\n",
        "– Convert feet (ft) to meters (m).\n",
        "2. Weight:\n",
        "– Convert kilograms (kg) to pounds (lbs).\n",
        "– Convert pounds (lbs) to kilograms (kg).\n",
        "3. Volume:\n",
        "– Convert liters (L) to gallons (gal).\n",
        "– Convert gallons (gal) to liters (L)."
      ],
      "metadata": {
        "id": "dBWAlYL_uf82"
      }
    },
    {
      "cell_type": "code",
      "execution_count": null,
      "metadata": {
        "id": "YgQP4sSbsFCg"
      },
      "outputs": [],
      "source": [
        "def convert_length(value, unit):\n",
        "    \"\"\"\n",
        "    Convert length between meters and feet.\n",
        "    :param value: float - The numerical value to convert.\n",
        "    :param unit: str - The unit of the input value ('m' for meters, 'ft' for feet).\n",
        "    :return: float - Converted value.\n",
        "    \"\"\"\n",
        "    if unit == \"m\":\n",
        "        return value * 3.28084  # meters to feet\n",
        "    elif unit == \"ft\":\n",
        "        return value / 3.28084  # feet to meters\n",
        "    else:\n",
        "        raise ValueError(\"Unsupported length unit.\")\n",
        "\n",
        "def convert_weight(value, unit):\n",
        "    \"\"\"\n",
        "    Convert weight between kilograms and pounds.\n",
        "    :param value: float - The numerical value to convert.\n",
        "    :param unit: str - The unit of the input value ('kg' for kilograms, 'lbs' for pounds).\n",
        "    :return: float - Converted value.\n",
        "    \"\"\"\n",
        "    if unit == \"kg\":\n",
        "        return value * 2.20462  # kg to lbs\n",
        "    elif unit == \"lbs\":\n",
        "        return value / 2.20462  # lbs to kg\n",
        "    else:\n",
        "        raise ValueError(\"Unsupported weight unit.\")\n",
        "\n",
        "def convert_volume(value, unit):\n",
        "    \"\"\"\n",
        "    Convert volume between liters and gallons.\n",
        "    :param value: float - The numerical value to convert.\n",
        "    :param unit: str - The unit of the input value ('L' for liters, 'gal' for gallons).\n",
        "    :return: float - Converted value.\n",
        "    \"\"\"\n",
        "    if unit == \"L\":\n",
        "        return value * 0.264172  # liters to gallons\n",
        "    elif unit == \"gal\":\n",
        "        return value / 0.264172  # gallons to liters\n",
        "    else:\n",
        "        raise ValueError(\"Unsupported volume unit.\")\n",
        "\n",
        "def main():\n",
        "    print(\"Unit Converter\")\n",
        "    print(\"Choose conversion type:\")\n",
        "    print(\"1. Length (m <-> ft)\")\n",
        "    print(\"2. Weight (kg <-> lbs)\")\n",
        "    print(\"3. Volume (L <-> gal)\")\n",
        "\n",
        "    try:\n",
        "        choice = int(input(\"Enter choice (1-3): \"))\n",
        "        value = float(input(\"Enter the value to convert: \"))\n",
        "\n",
        "        if choice == 1:\n",
        "            unit = input(\"Enter unit (m or ft): \").strip().lower()\n",
        "            converted = convert_length(value, unit)\n",
        "            print(f\"Converted value: {converted:.2f} {'ft' if unit == 'm' else 'm'}\")\n",
        "        elif choice == 2:\n",
        "            unit = input(\"Enter unit (kg or lbs): \").strip().lower()\n",
        "            converted = convert_weight(value, unit)\n",
        "            print(f\"Converted value: {converted:.2f} {'lbs' if unit == 'kg' else 'kg'}\")\n",
        "        elif choice == 3:\n",
        "            unit = input(\"Enter unit (L or gal): \").strip().lower()\n",
        "            converted = convert_volume(value, unit)\n",
        "            print(f\"Converted value: {converted:.2f} {'gal' if unit == 'l' else 'L'}\")\n",
        "        else:\n",
        "            print(\"Invalid choice. Please enter 1, 2, or 3.\")\n",
        "    except ValueError as e:\n",
        "        print(f\"Error: {e}\")\n",
        "    except Exception:\n",
        "        print(\"An unexpected error occurred.\")\n",
        "\n",
        "if __name__ == \"__main__\":\n",
        "    main()\n"
      ]
    },
    {
      "cell_type": "markdown",
      "source": [
        "##TASK-02\n",
        "Create a Python program that performs various mathematical operations on a list of numbers.\n",
        "\n",
        "• The Program should:\n",
        "1. Prompt the user to choose an operation (e.g., find the sum, average, maximum, or minimum\n",
        "of the numbers).\n",
        "2. Ask the user to input a list of numbers (separated by spaces).\n",
        "\n",
        "\n",
        "3. Perform the selected operation and display the result.\n",
        "4. Handle potential errors, such as invalid input or empty lists.\n",
        "\n",
        "• Requirements:\n",
        "\n",
        "1. Functions: Define at least one function for each operation (sum, average, maximum, mini-\n",
        "mum).\n",
        "\n",
        "2. Error Handling: Use try-except blocks to handle invalid input (e.g., non-numeric values or\n",
        "empty lists).\n",
        "3. User Input: Prompt the user to select the operation and input the list of numbers.\n",
        "4. Docstrings: Include a docstring in each function to describe its purpose, parameters, and\n",
        "return value."
      ],
      "metadata": {
        "id": "-aPHLF3PumHo"
      }
    },
    {
      "cell_type": "code",
      "source": [
        "def calculate_sum(numbers):\n",
        "    \"\"\"\n",
        "    Calculate the sum of a list of numbers.\n",
        "    :param numbers: list of float - The list of numbers.\n",
        "    :return: float - The sum of the numbers.\n",
        "    \"\"\"\n",
        "    return sum(numbers)\n",
        "\n",
        "def calculate_average(numbers):\n",
        "    \"\"\"\n",
        "    Calculate the average of a list of numbers.\n",
        "    :param numbers: list of float - The list of numbers.\n",
        "    :return: float - The average of the numbers.\n",
        "    \"\"\"\n",
        "    return sum(numbers) / len(numbers) if numbers else 0\n",
        "\n",
        "def find_maximum(numbers):\n",
        "    \"\"\"\n",
        "    Find the maximum number in a list.\n",
        "    :param numbers: list of float - The list of numbers.\n",
        "    :return: float - The maximum value in the list.\n",
        "    \"\"\"\n",
        "    return max(numbers)\n",
        "\n",
        "def find_minimum(numbers):\n",
        "    \"\"\"\n",
        "    Find the minimum number in a list.\n",
        "    :param numbers: list of float - The list of numbers.\n",
        "    :return: float - The minimum value in the list.\n",
        "    \"\"\"\n",
        "    return min(numbers)\n",
        "\n",
        "def main():\n",
        "    print(\"Mathematical Operations on a List\")\n",
        "    print(\"Choose an operation:\")\n",
        "    print(\"1. Sum\")\n",
        "    print(\"2. Average\")\n",
        "    print(\"3. Maximum\")\n",
        "    print(\"4. Minimum\")\n",
        "\n",
        "    try:\n",
        "        choice = int(input(\"Enter your choice (1-4): \"))\n",
        "        numbers = list(map(float, input(\"Enter numbers separated by spaces: \").split()))\n",
        "\n",
        "        if not numbers:\n",
        "            raise ValueError(\"The list of numbers cannot be empty.\")\n",
        "\n",
        "        if choice == 1:\n",
        "            result = calculate_sum(numbers)\n",
        "            print(f\"Sum: {result}\")\n",
        "        elif choice == 2:\n",
        "            result = calculate_average(numbers)\n",
        "            print(f\"Average: {result:.2f}\")\n",
        "        elif choice == 3:\n",
        "            result = find_maximum(numbers)\n",
        "            print(f\"Maximum: {result}\")\n",
        "        elif choice == 4:\n",
        "            result = find_minimum(numbers)\n",
        "            print(f\"Minimum: {result}\")\n",
        "        else:\n",
        "            print(\"Invalid choice. Please enter a number between 1 and 4.\")\n",
        "    except ValueError as e:\n",
        "        print(f\"Error: {e}\")\n",
        "    except Exception:\n",
        "        print(\"An unexpected error occurred.\")\n",
        "\n",
        "if __name__ == \"__main__\":\n",
        "    main()"
      ],
      "metadata": {
        "colab": {
          "base_uri": "https://localhost:8080/"
        },
        "id": "roMM8W-euS5Z",
        "outputId": "9c7cf2c7-55e5-4f9e-dd52-02afaf311e05"
      },
      "execution_count": null,
      "outputs": [
        {
          "output_type": "stream",
          "name": "stdout",
          "text": [
            "Mathematical Operations on a List\n",
            "Choose an operation:\n",
            "1. Sum\n",
            "2. Average\n",
            "3. Maximum\n",
            "4. Minimum\n"
          ]
        }
      ]
    },
    {
      "cell_type": "markdown",
      "source": [
        "#Exercise on List Manipulation"
      ],
      "metadata": {
        "id": "muJVbZdqvggd"
      }
    },
    {
      "cell_type": "markdown",
      "source": [
        "**1. Extract Every Other Element:**\n",
        "\n"
      ],
      "metadata": {
        "id": "dIcY3I72vqcJ"
      }
    },
    {
      "cell_type": "markdown",
      "source": [
        "Write a Python function that extracts every other element from a list, starting from the first element.\n",
        "\n",
        "• Requirements:\n",
        "– Define a function extract every other(lst) that takes a list lst as input and returns a\n",
        "new list containing every other element from the original list.\n",
        "\n",
        "Example: For the input [1, 2, 3, 4, 5, 6], the output should be [1, 3, 5].\n",
        "\n"
      ],
      "metadata": {
        "id": "JzhIeuFJwSJV"
      }
    },
    {
      "cell_type": "code",
      "source": [
        "def extract_every_other(lst):\n",
        "    \"\"\"\n",
        "    Extract every other element from the list, starting from the first element.\n",
        "    :param lst: list - The input list.\n",
        "    :return: list - A new list containing every other element.\n",
        "    \"\"\"\n",
        "    return lst[::2]\n",
        "\n",
        "example_list = [1, 2, 3, 4, 5, 6]\n",
        "result = extract_every_other(example_list)\n",
        "print(result)"
      ],
      "metadata": {
        "id": "FceZWuJHuS0g"
      },
      "execution_count": null,
      "outputs": []
    },
    {
      "cell_type": "markdown",
      "source": [
        "**2.Slice a sublist**\n",
        "\n",
        "Write a Python function that returns a sublist from a given list, starting from a specified index and\n",
        "ending at another specified index.\n",
        "\n",
        "• Requirements:\n",
        "– Define a function get sublist(lst, start, end) that takes a list lst, a starting index\n",
        "start, and an ending index end as input and returns the sublist from start to end (inclusive).\n",
        "\n",
        " Example: For the input [1, 2, 3, 4, 5, 6] with start=2 and end=4, the output should\n",
        "be [3, 4, 5]."
      ],
      "metadata": {
        "id": "0OahPvbSwnJZ"
      }
    },
    {
      "cell_type": "code",
      "source": [
        "def get_sublist(lst, start, end):\n",
        "    \"\"\"\n",
        "    Return a sublist from the given list, starting from the specified index and ending at another specified index (inclusive).\n",
        "    :param lst: list - The input list.\n",
        "    :param start: int - The starting index.\n",
        "    :param end: int - The ending index (inclusive).\n",
        "    :return: list - The sublist from start to end.\n",
        "    \"\"\"\n",
        "    return lst[start:end+1]\n",
        "\n",
        "\n",
        "example_list = [1, 2, 3, 4, 5, 6]\n",
        "start_index = 2\n",
        "end_index = 4\n",
        "result = get_sublist(example_list, start_index, end_index)\n",
        "print(result)\n"
      ],
      "metadata": {
        "id": "r60gXlOWuSxm"
      },
      "execution_count": null,
      "outputs": []
    },
    {
      "cell_type": "markdown",
      "source": [
        "**3.Reverse a List Using Slicing**\n",
        "\n",
        "Write a Python function that reverses a list using slicing.\n",
        "\n",
        "Requirements:\n",
        "\n",
        "– Define a function reverse list(lst) that takes a list lst and returns a reversed list using\n",
        "slicing.\n",
        "\n",
        " Example: For the input [1, 2, 3, 4, 5], the output should be [5, 4, 3, 2, 1]."
      ],
      "metadata": {
        "id": "CI-GGSWzxUDX"
      }
    },
    {
      "cell_type": "code",
      "source": [
        "def reverse_list(lst):\n",
        "    \"\"\"\n",
        "    Reverse the given list using slicing.\n",
        "    :param lst: list - The input list.\n",
        "    :return: list - The reversed list.\n",
        "    \"\"\"\n",
        "    return lst[::-1]\n",
        "\n",
        "example_list = [1, 2, 3, 4, 5]\n",
        "result = reverse_list(example_list)\n",
        "print(result)"
      ],
      "metadata": {
        "id": "34QHlFkGuSuP"
      },
      "execution_count": null,
      "outputs": []
    },
    {
      "cell_type": "markdown",
      "source": [
        "**4.Remove the First and Last Element**\n",
        "\n",
        "Write a Python function that removes the first and last elements of a list and returns the resulting\n",
        "sublist.\n",
        "\n",
        "• Requirements:\n",
        "– Define a function remove first last(lst) that takes a list lst and returns a sublist without\n",
        "the first and last elements using slicing.\n",
        "\n",
        " Example: For the input [1, 2, 3, 4, 5], the output should be [2, 3, 4]."
      ],
      "metadata": {
        "id": "w7W8qVPwxu2A"
      }
    },
    {
      "cell_type": "code",
      "source": [
        "def remove_first_last(lst):\n",
        "    \"\"\"\n",
        "    Remove the first and last elements from the list and return the resulting sublist.\n",
        "    :param lst: list - The input list.\n",
        "    :return: list - The sublist without the first and last elements.\n",
        "    \"\"\"\n",
        "    return lst[1:-1] if len(lst) > 2 else []\n",
        "\n",
        "example_list = [1, 2, 3, 4, 5]\n",
        "result = remove_first_last(example_list)\n",
        "print(result)"
      ],
      "metadata": {
        "id": "Ewy4BkxmuSqi"
      },
      "execution_count": null,
      "outputs": []
    },
    {
      "cell_type": "markdown",
      "source": [
        "**5.Get the First n Elements**\n",
        "Write a Python function that extracts the first n elements from a list.\n",
        "\n",
        "• Requirements:\n",
        "– Define a function get first n(lst, n) that takes a list lst and an integer n as input and\n",
        "returns the first n elements of the list using slicing.\n",
        "\n",
        " Example: For the input [1, 2, 3, 4, 5] with n=3, the output should be [1, 2, 3]."
      ],
      "metadata": {
        "id": "zzary0dIyH3F"
      }
    },
    {
      "cell_type": "code",
      "source": [
        "def get_first_n(lst, n):\n",
        "    \"\"\"\n",
        "    Extract the first n elements from a list.\n",
        "    :param lst: list - The input list.\n",
        "    :param n: int - The number of elements to extract.\n",
        "    :return: list - The first n elements of the list.\n",
        "    \"\"\"\n",
        "    return lst[:n]\n",
        "\n",
        "example_list = [1, 2, 3, 4, 5]\n",
        "n = 3\n",
        "result = get_first_n(example_list, n)\n",
        "print(result)"
      ],
      "metadata": {
        "id": "FP1sIdtnuSnt"
      },
      "execution_count": null,
      "outputs": []
    },
    {
      "cell_type": "markdown",
      "source": [
        "**6.Extract Elements from the End**\n",
        "\n",
        "Write a Python function that extracts the last n elements of a list using slicing.\n",
        "\n",
        "• Requirements:\n",
        "– Define a function get last n(lst, n) that takes a list lst and an integer n as input and\n",
        "returns the last n elements of the list.\n",
        "\n",
        " Example: For the input [1, 2, 3, 4, 5] with n=2, the output should be [4, 5]."
      ],
      "metadata": {
        "id": "ZD8BXVNoy5fu"
      }
    },
    {
      "cell_type": "code",
      "source": [
        "def get_first_n(lst, n):\n",
        "    \"\"\"\n",
        "    Extract the first n elements from a list.\n",
        "    :param lst: list - The input list.\n",
        "    :param n: int - The number of elements to extract.\n",
        "    :return: list - The first n elements of the list.\n",
        "    \"\"\"\n",
        "    return lst[:n]\n",
        "\n",
        "def get_last_n(lst, n):\n",
        "    \"\"\"\n",
        "    Extract the last n elements from a list.\n",
        "    :param lst: list - The input list.\n",
        "    :param n: int - The number of elements to extract.\n",
        "    :return: list - The last n elements of the list.\n",
        "    \"\"\"\n",
        "    return lst[-n:]\n",
        "\n",
        "# Example usage\n",
        "example_list = [1, 2, 3, 4, 5]\n",
        "n = 3\n",
        "first_n_result = get_first_n(example_list, n)\n",
        "print(first_n_result)  # Output: [1, 2, 3]\n",
        "\n",
        "last_n_result = get_last_n(example_list, n)\n",
        "print(last_n_result)  # Output: [3, 4, 5]"
      ],
      "metadata": {
        "id": "wU1cFoOuuSjy"
      },
      "execution_count": null,
      "outputs": []
    },
    {
      "cell_type": "markdown",
      "source": [
        "**7.Extract Elements in Reverse Order**\n",
        "\n",
        "Write a Python function that extracts a list of elements in reverse order starting from the second-to-last\n",
        "element and skipping one element in between.\n",
        "\n",
        "• Requirements:\n",
        "– Define a function reverse skip(lst) that takes a list lst and returns a new list containing\n",
        "every second element starting from the second-to-last, moving backward.\n",
        "\n",
        " Example: For the input [1, 2, 3, 4, 5, 6], the output should be [5, 3, 1]."
      ],
      "metadata": {
        "id": "7D-gYirkzG1H"
      }
    },
    {
      "cell_type": "code",
      "source": [
        "def get_first_n(lst, n):\n",
        "    \"\"\"\n",
        "    Extract the first n elements from a list.\n",
        "    :param lst: list - The input list.\n",
        "    :param n: int - The number of elements to extract.\n",
        "    :return: list - The first n elements of the list.\n",
        "    \"\"\"\n",
        "    return lst[:n]\n",
        "\n",
        "def get_last_n(lst, n):\n",
        "    \"\"\"\n",
        "    Extract the last n elements from a list.\n",
        "    :param lst: list - The input list.\n",
        "    :param n: int - The number of elements to extract.\n",
        "    :return: list - The last n elements of the list.\n",
        "    \"\"\"\n",
        "    return lst[-n:]\n",
        "\n",
        "def reverse_skip(lst):\n",
        "    \"\"\"\n",
        "    Extract a list of elements in reverse order starting from the second-to-last element and skipping one element in between.\n",
        "    :param lst: list - The input list.\n",
        "    :return: list - A new list with every second element in reverse order.\n",
        "    \"\"\"\n",
        "    return lst[-2::-2]\n",
        "\n",
        "# Example usage\n",
        "example_list = [1, 2, 3, 4, 5, 6]\n",
        "n = 3\n",
        "first_n_result = get_first_n(example_list, n)\n",
        "print(first_n_result)  # Output: [1, 2, 3]\n",
        "\n",
        "last_n_result = get_last_n(example_list, n)\n",
        "print(last_n_result)  # Output: [4, 5, 6]\n",
        "\n",
        "reverse_skip_result = reverse_skip(example_list)\n",
        "print(reverse_skip_result)  # Output: [5, 3, 1]\n"
      ],
      "metadata": {
        "id": "56JEkAtfuSgJ"
      },
      "execution_count": null,
      "outputs": []
    },
    {
      "cell_type": "markdown",
      "source": [
        "#Exercise on Nested List"
      ],
      "metadata": {
        "id": "4lS-s-R_zfCN"
      }
    },
    {
      "cell_type": "markdown",
      "source": [
        "**1.Flatten a Nested List**\n",
        "\n",
        "Write a Python function that takes a nested list and flattens it into a single list, where all the elements\n",
        "are in a single dimension.\n",
        "\n",
        "• Requirements:\n",
        "– Define a function flatten(lst) that takes a nested list lst and returns a flattened version\n",
        "of the list.\n",
        "\n",
        " Example: For the input [[1, 2], [3, 4], [5]], the output should be [1, 2, 3, 4, 5]."
      ],
      "metadata": {
        "id": "mZqleJ-6zjXc"
      }
    },
    {
      "cell_type": "code",
      "source": [
        "def get_first_n(lst, n):\n",
        "    \"\"\"\n",
        "    Extract the first n elements from a list.\n",
        "    :param lst: list - The input list.\n",
        "    :param n: int - The number of elements to extract.\n",
        "    :return: list - The first n elements of the list.\n",
        "    \"\"\"\n",
        "    return lst[:n]\n",
        "\n",
        "def get_last_n(lst, n):\n",
        "    \"\"\"\n",
        "    Extract the last n elements from a list.\n",
        "    :param lst: list - The input list.\n",
        "    :param n: int - The number of elements to extract.\n",
        "    :return: list - The last n elements of the list.\n",
        "    \"\"\"\n",
        "    return lst[-n:]\n",
        "\n",
        "def reverse_skip(lst):\n",
        "    \"\"\"\n",
        "    Extract a list of elements in reverse order starting from the second-to-last element and skipping one element in between.\n",
        "    :param lst: list - The input list.\n",
        "    :return: list - A new list with every second element in reverse order.\n",
        "    \"\"\"\n",
        "    return lst[-2::-2]\n",
        "\n",
        "def flatten(lst):\n",
        "    \"\"\"\n",
        "    Flatten a nested list into a single list.\n",
        "    :param lst: list - The nested list.\n",
        "    :return: list - A flattened version of the list.\n",
        "    \"\"\"\n",
        "    return [item for sublist in lst for item in sublist]\n",
        "\n",
        "# Example usage\n",
        "example_list = [1, 2, 3, 4, 5, 6]\n",
        "n = 3\n",
        "first_n_result = get_first_n(example_list, n)\n",
        "print(first_n_result)  # Output: [1, 2, 3]\n",
        "\n",
        "last_n_result = get_last_n(example_list, n)\n",
        "print(last_n_result)  # Output: [4, 5, 6]\n",
        "\n",
        "reverse_skip_result = reverse_skip(example_list)\n",
        "print(reverse_skip_result)  # Output: [5, 3, 1]\n",
        "\n",
        "nested_list = [[1, 2], [3, 4], [5]]\n",
        "flattened_result = flatten(nested_list)\n",
        "print(flattened_result)  # Output: [1, 2, 3, 4, 5]\n"
      ],
      "metadata": {
        "id": "rCpnXvpwuSVv"
      },
      "execution_count": null,
      "outputs": []
    },
    {
      "cell_type": "markdown",
      "source": [
        "**2.Accessing Nested List Elements**\n",
        "\n",
        "Write a Python function that extracts a specific element from a nested list given its indices.\n",
        "\n",
        "• Requirements:\n",
        "– Define a function access nested element(lst, indices) that takes a nested list lst and\n",
        "a list of indices indices, and returns the element at that position.\n",
        "\n",
        " Example: For the input lst = [[1, 2, 3], [4, 5, 6], [7, 8, 9]] with indices = [1,\n",
        "2], the output should be 6."
      ],
      "metadata": {
        "id": "Sonj-Fraz39M"
      }
    },
    {
      "cell_type": "code",
      "source": [
        "def access_nested_element(lst, indices):\n",
        "    element = lst  # Start from the outer list\n",
        "    for index in indices:  # Iterate through the indices\n",
        "        element = element[index]  # Move deeper into the nested list\n",
        "    return element\n",
        "\n",
        "\n",
        "lst = [[1, 2, 3], [4, 5, 6], [7, 8, 9]]\n",
        "indices = [1, 2]  # Accessing lst[1][2], which is 6\n",
        "print(access_nested_element(lst, indices))\n"
      ],
      "metadata": {
        "id": "VJc664Nvz4Vs"
      },
      "execution_count": null,
      "outputs": []
    },
    {
      "cell_type": "markdown",
      "source": [
        "**3.Sum of All Elements in a Nested List**\n",
        "\n",
        "Write a Python function that calculates the sum of all the numbers in a nested list (regardless of depth).\n",
        "\n",
        "• Requirements:\n",
        "– Define a function sum nested(lst) that takes a nested list lst and returns the sum of all\n",
        "the elements.\n",
        "\n",
        " Example: For the input [[1, 2], [3, [4, 5]], 6], the output should be 21."
      ],
      "metadata": {
        "id": "TuPtfsEx0QyH"
      }
    },
    {
      "cell_type": "code",
      "source": [
        "def sum_nested(lst):\n",
        "    total = 0\n",
        "    for element in lst:\n",
        "        if isinstance(element, list):  # If element is a list, recurse into it\n",
        "            total += sum_nested(element)\n",
        "        else:  # If it's a number, add it to the total\n",
        "            total += element\n",
        "    return total\n",
        "\n",
        "nested_list = [[1, 2], [3, [4, 5]], 6]\n",
        "print(sum_nested(nested_list))\n"
      ],
      "metadata": {
        "id": "X39f651uz5AX"
      },
      "execution_count": null,
      "outputs": []
    },
    {
      "cell_type": "markdown",
      "source": [
        "**4.Remove Specific Element from a Nested List**\n",
        "\n",
        "Write a Python function that removes all occurrences of a specific element from a nested list.\n",
        "\n",
        "• Requirements:\n",
        "– Define a function remove element(lst, elem) that removes elem from lst and returns the\n",
        "modified list.\n",
        "\n",
        " Example: For the input lst = [[1, 2], [3, 2], [4, 5]] and elem = 2, the output should\n",
        "be [[1], [3], [4, 5]]."
      ],
      "metadata": {
        "id": "DsAPyPT10j2o"
      }
    },
    {
      "cell_type": "code",
      "source": [
        "def remove_element(lst, elem):\n",
        "    \"\"\"\n",
        "    Recursively removes all occurrences of a specific element from a nested list.\n",
        "\n",
        "    Parameters:\n",
        "    lst (list): The nested list from which elements should be removed.\n",
        "    elem (any): The element to remove from the list.\n",
        "\n",
        "    Returns:\n",
        "    list: A new list with all occurrences of elem removed.\n",
        "\n",
        "    Example:\n",
        "    >>> remove_element([[1, 2], [3, 2], [4, 5]], 2)\n",
        "    [[1], [3], [4, 5]]\n",
        "    \"\"\"\n",
        "    result = []\n",
        "    for item in lst:\n",
        "        if isinstance(item, list):  # If the item is a list, process it recursively\n",
        "            cleaned_list = remove_element(item, elem)\n",
        "            if cleaned_list:  # Add it only if it's not empty\n",
        "                result.append(cleaned_list)\n",
        "        elif item != elem:  # Add the item if it's not the element to remove\n",
        "            result.append(item)\n",
        "    return result\n",
        "\n",
        "nested_list = [[1, 2], [3, 2], [4, 5]]\n",
        "element_to_remove = 2\n",
        "print(remove_element(nested_list, element_to_remove))\n"
      ],
      "metadata": {
        "id": "FjDzZy0Bz47a"
      },
      "execution_count": null,
      "outputs": []
    },
    {
      "cell_type": "markdown",
      "source": [
        "**5.Find the Maximum Element in a Nested List**\n",
        "\n",
        "Write a Python function that finds the maximum element in a nested list (regardless of depth).\n",
        "\n",
        "• Requirements:\n",
        "– Define a function find max(lst) that takes a nested list lst and returns the maximum\n",
        "element.\n",
        "\n",
        " Example: For the input [[1, 2], [3, [4, 5]], 6], the output should be 6."
      ],
      "metadata": {
        "id": "clv18Y-10801"
      }
    },
    {
      "cell_type": "code",
      "source": [
        "def find_max(lst):\n",
        "    \"\"\"\n",
        "    Recursively finds the maximum element in a nested list.\n",
        "\n",
        "    Parameters:\n",
        "    lst (list): The nested list containing numerical values.\n",
        "\n",
        "    Returns:\n",
        "    int/float: The maximum element in the list.\n",
        "\n",
        "    Example:\n",
        "    >>> find_max([[1, 2], [3, [4, 5]], 6])\n",
        "    6\n",
        "    \"\"\"\n",
        "    max_value = float('-inf')  # Start with the smallest possible value\n",
        "\n",
        "    for item in lst:\n",
        "        if isinstance(item, list):  # If item is a list, process it recursively\n",
        "            max_value = max(max_value, find_max(item))\n",
        "        else:  # If item is a number, compare with max_value\n",
        "            max_value = max(max_value, item)\n",
        "\n",
        "    return max_value\n",
        "\n",
        "# Example usage:\n",
        "nested_list = [[1, 2], [3, [4, 5]], 6]\n",
        "print(find_max(nested_list))  # Output: 6\n"
      ],
      "metadata": {
        "id": "Se3MoZvKz42d"
      },
      "execution_count": null,
      "outputs": []
    },
    {
      "cell_type": "markdown",
      "source": [
        "**6.Count Occurrences of an Element in a Nested List**\n",
        "\n",
        "Write a Python function that counts how many times a specific element appears in a nested list.\n",
        "\n",
        "• Requirements:\n",
        "– Define a function count occurrences(lst, elem) that counts the occurrences of elem in\n",
        "the nested list lst.\n",
        "\n",
        " Example: For the input lst = [[1, 2], [2, 3], [2, 4]] and elem = 2, the output should\n",
        "be 3."
      ],
      "metadata": {
        "id": "JZaVdtLQ1Pxd"
      }
    },
    {
      "cell_type": "code",
      "source": [
        "def count_occurrences(lst, elem):\n",
        "    \"\"\"\n",
        "    Recursively counts how many times a specific element appears in a nested list.\n",
        "\n",
        "    Parameters:\n",
        "    lst (list): The nested list in which to count occurrences.\n",
        "    elem (any): The element to count in the list.\n",
        "\n",
        "    Returns:\n",
        "    int: The number of times elem appears in the list.\n",
        "\n",
        "    Example:\n",
        "    >>> count_occurrences([[1, 2], [2, 3], [2, 4]], 2)\n",
        "    3\n",
        "    \"\"\"\n",
        "    count = 0  # Start with a count of 0\n",
        "\n",
        "    for item in lst:\n",
        "        if isinstance(item, list):  # If the item is a list, process it recursively\n",
        "            count += count_occurrences(item, elem)\n",
        "        elif item == elem:  # If the item equals elem, increment the count\n",
        "            count += 1\n",
        "\n",
        "    return count\n",
        "\n",
        "nested_list = [[1, 2], [2, 3], [2, 4]]\n",
        "element_to_count = 2\n",
        "print(count_occurrences(nested_list, element_to_count))\n"
      ],
      "metadata": {
        "id": "AkgNJDoqz4u7"
      },
      "execution_count": null,
      "outputs": []
    },
    {
      "cell_type": "markdown",
      "source": [
        "**7.Flatten a List of Lists of Lists**\n",
        "\n",
        "Write a Python function that flattens a list of lists of lists into a single list, regardless of the depth.\n",
        "\n",
        "• Requirements:\n",
        "– Define a function deep flatten(lst) that takes a deeply nested list lst and returns a single\n",
        "flattened list.\n",
        "\n",
        " Example: For the input [[[1, 2], [3, 4]], [[5, 6], [7, 8]]], the output should be\n",
        "[1, 2, 3, 4, 5, 6, 7, 8]."
      ],
      "metadata": {
        "id": "bZheI9531hsi"
      }
    },
    {
      "cell_type": "code",
      "source": [
        "def deep_flatten(lst):\n",
        "    \"\"\"\n",
        "    Recursively flattens a deeply nested list into a single list.\n",
        "\n",
        "    Parameters:\n",
        "    lst (list): The deeply nested list to flatten.\n",
        "\n",
        "    Returns:\n",
        "    list: A single list containing all the elements from the nested lists.\n",
        "\n",
        "    Example:\n",
        "    >>> deep_flatten([[[1, 2], [3, 4]], [[5, 6], [7, 8]]])\n",
        "    [1, 2, 3, 4, 5, 6, 7, 8]\n",
        "    \"\"\"\n",
        "    flattened = []\n",
        "\n",
        "    for item in lst:\n",
        "        if isinstance(item, list):  # If the item is a list, flatten it recursively\n",
        "            flattened.extend(deep_flatten(item))\n",
        "        else:  # If it's not a list, just add the item to the flattened list\n",
        "            flattened.append(item)\n",
        "\n",
        "    return flattened\n",
        "\n",
        "nested_list = [[[1, 2], [3, 4]], [[5, 6], [7, 8]]]\n",
        "print(deep_flatten(nested_list))\n"
      ],
      "metadata": {
        "id": "yOIdeYS81q7K"
      },
      "execution_count": null,
      "outputs": []
    },
    {
      "cell_type": "markdown",
      "source": [
        "**8.Nested List Average**\n",
        "\n",
        "Write a Python function that calculates the average of all elements in a nested list.\n",
        "\n",
        "• Requirements:\n",
        "– Define a function average nested(lst) that takes a nested list lst and returns the average\n",
        "of all the elements.\n",
        "\n",
        " Example: For the input [[1, 2], [3, 4], [5, 6]], the output should be 3.5."
      ],
      "metadata": {
        "id": "9dXjFtiV1zS1"
      }
    },
    {
      "cell_type": "code",
      "source": [
        "def average_nested(lst):\n",
        "    \"\"\"\n",
        "    Recursively calculates the average of all elements in a nested list.\n",
        "\n",
        "    Parameters:\n",
        "    lst (list): The nested list containing numerical values.\n",
        "\n",
        "    Returns:\n",
        "    float: The average of all elements in the list.\n",
        "\n",
        "    Example:\n",
        "    >>> average_nested([[1, 2], [3, 4], [5, 6]])\n",
        "    3.5\n",
        "    \"\"\"\n",
        "    # Helper function to flatten the list\n",
        "    def deep_flatten(lst):\n",
        "        flattened = []\n",
        "        for item in lst:\n",
        "            if isinstance(item, list):  # If item is a list, flatten it recursively\n",
        "                flattened.extend(deep_flatten(item))\n",
        "            else:  # If it's not a list, add it directly to the flattened list\n",
        "                flattened.append(item)\n",
        "        return flattened\n",
        "\n",
        "    # Flatten the nested list\n",
        "    flat_list = deep_flatten(lst)\n",
        "\n",
        "    # Calculate the average\n",
        "    return sum(flat_list) / len(flat_list) if flat_list else 0  # Avoid division by zero\n",
        "\n",
        "nested_list = [[1, 2], [3, 4], [5, 6]]\n",
        "print(average_nested(nested_list))\n"
      ],
      "metadata": {
        "id": "pwPB0TGG11Y8"
      },
      "execution_count": null,
      "outputs": []
    },
    {
      "cell_type": "markdown",
      "source": [
        "# Basic Vector and Matrix Operation with Numpy."
      ],
      "metadata": {
        "id": "YJyLF5DL2W7m"
      }
    },
    {
      "cell_type": "markdown",
      "source": [
        "Problem - 1: Array Creation:\n",
        "Complete the following Tasks:\n",
        "1. Initialize an empty array with size 2X2.\n",
        "2. Initialize an all one array with size 4X2.\n",
        "3. Return a new array of given shape and type, filled with fill value.{Hint: np.full}\n",
        "4. Return a new array of zeros with same shape and type as a given array.{Hint: np.zeros like}\n",
        "5. Return a new array of ones with same shape and type as a given array.{Hint: np.ones like}\n",
        "6. For an existing list new_list = [1,2,3,4] convert to an numpy array.{Hint: np.array()}"
      ],
      "metadata": {
        "id": "pCyKwv552bn5"
      }
    },
    {
      "cell_type": "code",
      "source": [
        "import numpy as np\n",
        "\n",
        "empty_array = np.empty((2, 2))\n",
        "print(\"Empty Array (2x2):\\n\", empty_array)"
      ],
      "metadata": {
        "id": "Kp28yMqH2ffY"
      },
      "execution_count": null,
      "outputs": []
    },
    {
      "cell_type": "code",
      "source": [
        "ones_array = np.ones((4, 2))\n",
        "print(\"All Ones Array (4x2):\\n\", ones_array)\n"
      ],
      "metadata": {
        "id": "cWOrl_PQ2gEy"
      },
      "execution_count": null,
      "outputs": []
    },
    {
      "cell_type": "code",
      "source": [
        "fill_value_array = np.full((3, 3), 7)  # Example: Fill with value 7\n",
        "print(\"Filled Array (3x3, fill value 7):\\n\", fill_value_array)\n"
      ],
      "metadata": {
        "id": "2DB_97wH2gCr"
      },
      "execution_count": null,
      "outputs": []
    },
    {
      "cell_type": "code",
      "source": [
        "given_array = np.array([[1, 2], [3, 4]])\n",
        "zeros_like_array = np.zeros_like(given_array)\n",
        "print(\"Zeros-like Array:\\n\", zeros_like_array)\n"
      ],
      "metadata": {
        "id": "0L21N6PC2gBH"
      },
      "execution_count": null,
      "outputs": []
    },
    {
      "cell_type": "code",
      "source": [
        "ones_like_array = np.ones_like(given_array)\n",
        "print(\"Ones-like Array:\\n\", ones_like_array)\n"
      ],
      "metadata": {
        "id": "e8kEBRT32f_l"
      },
      "execution_count": null,
      "outputs": []
    },
    {
      "cell_type": "code",
      "source": [
        "new_list = [1, 2, 3, 4]\n",
        "numpy_array = np.array(new_list)\n",
        "print(\"NumPy Array:\\n\", numpy_array)\n"
      ],
      "metadata": {
        "id": "2m-YSPfL2f1A"
      },
      "execution_count": null,
      "outputs": []
    },
    {
      "cell_type": "markdown",
      "source": [
        "Problem - 2: Array Manipulation: Numerical Ranges and Array indexing:\n",
        "Complete the following tasks:\n",
        "1. Create an array with values ranging from 10 to 49. {Hint:np.arrange()}.\n",
        "2. Create a 3X3 matrix with values ranging from 0 to 8.\n",
        "{Hint:look for np.reshape()}\n",
        "3. Create a 3X3 identity matrix.{Hint:np.eye()}\n",
        "4. Create a random array of size 30 and find the mean of the array.\n",
        "{Hint:check for np.random.random() and array.mean() function}\n",
        "5. Create a 10X10 array with random values and find the minimum and maximum values.\n",
        "6. Create a zero array of size 10 and replace 5th element with 1.\n",
        "7. Reverse an array arr = [1,2,0,0,4,0].\n",
        "8. Create a 2d array with 1 on border and 0 inside.\n",
        "9. Create a 8X8 matrix and fill it with a checkerboard pattern."
      ],
      "metadata": {
        "id": "K_UOc3kI3QKN"
      }
    },
    {
      "cell_type": "code",
      "source": [
        "import numpy as np\n",
        "\n",
        "array_10_49 = np.arange(10, 50)\n",
        "print(\"Array from 10 to 49:\\n\", array_10_49)\n"
      ],
      "metadata": {
        "id": "NN1y0x-x3Op2"
      },
      "execution_count": null,
      "outputs": []
    },
    {
      "cell_type": "code",
      "source": [
        "matrix_3x3 = np.arange(9).reshape(3, 3)\n",
        "print(\"3x3 Matrix with values from 0 to 8:\\n\", matrix_3x3)\n"
      ],
      "metadata": {
        "id": "O8KW8meE3bY9"
      },
      "execution_count": null,
      "outputs": []
    },
    {
      "cell_type": "code",
      "source": [
        "identity_matrix = np.eye(3)\n",
        "print(\"3x3 Identity Matrix:\\n\", identity_matrix)\n"
      ],
      "metadata": {
        "id": "GbOOk1Nk3bVS"
      },
      "execution_count": null,
      "outputs": []
    },
    {
      "cell_type": "code",
      "source": [
        "random_array = np.random.random(30)\n",
        "mean_value = random_array.mean()\n",
        "print(\"Mean of Random Array:\\n\", mean_value)\n"
      ],
      "metadata": {
        "id": "XzUQBED73bTh"
      },
      "execution_count": null,
      "outputs": []
    },
    {
      "cell_type": "code",
      "source": [
        "random_10x10 = np.random.random((10, 10))\n",
        "min_value = random_10x10.min()\n",
        "max_value = random_10x10.max()\n",
        "print(\"Minimum Value in 10x10 Array:\", min_value)\n",
        "print(\"Maximum Value in 10x10 Array:\", max_value)\n"
      ],
      "metadata": {
        "id": "ymE23hI93bRe"
      },
      "execution_count": null,
      "outputs": []
    },
    {
      "cell_type": "code",
      "source": [
        "zero_array = np.zeros(10)\n",
        "zero_array[4] = 1  # 5th element (index 4) is replaced by 1\n",
        "print(\"Zero Array with 5th element replaced by 1:\\n\", zero_array)\n"
      ],
      "metadata": {
        "id": "FDg4StA83bJn"
      },
      "execution_count": null,
      "outputs": []
    },
    {
      "cell_type": "code",
      "source": [
        "arr = np.array([1, 2, 0, 0, 4, 0])\n",
        "reversed_arr = arr[::-1]\n",
        "print(\"Reversed Array:\\n\", reversed_arr)\n"
      ],
      "metadata": {
        "id": "W3Y2DDV93kVn"
      },
      "execution_count": null,
      "outputs": []
    },
    {
      "cell_type": "code",
      "source": [
        "border_array = np.ones((5, 5))\n",
        "border_array[1:-1, 1:-1] = 0\n",
        "print(\"2D Array with 1 on Border and 0 Inside:\\n\", border_array)\n"
      ],
      "metadata": {
        "id": "sA3aeyCK3kTh"
      },
      "execution_count": null,
      "outputs": []
    },
    {
      "cell_type": "code",
      "source": [
        "checkerboard = np.zeros((8, 8))\n",
        "checkerboard[1::2, ::2] = 1  # Fill alternate columns of odd rows with 1\n",
        "checkerboard[::2, 1::2] = 1  # Fill alternate columns of even rows with 1\n",
        "print(\"8x8 Checkerboard Pattern:\\n\", checkerboard)\n"
      ],
      "metadata": {
        "id": "_ddRDRsp3kSO"
      },
      "execution_count": null,
      "outputs": []
    },
    {
      "cell_type": "markdown",
      "source": [
        "Problem - 3: Array Operations:\n",
        "\n",
        "For the following arrays:\n",
        "x = np.array([[1,2],[3,5]]) and y = np.array([[5,6],[7,8]]);\n",
        "v = np.array([9,10]) and w = np.array([11,12]);\n",
        "\n",
        "Complete all the task using numpy:\n",
        "1. Add the two array.\n",
        "2. Subtract the two array.\n",
        "3. Multiply the array with any integers of your choice.\n",
        "4. Find the square of each element of the array.\n",
        "5. Find the dot product between: v(and)w ; x(and)v ; x(and)y.\n",
        "6. Concatenate x(and)y along row and Concatenate v(and)w along column.\n",
        "{Hint:try np.concatenate() or np.vstack() functions.\n",
        "7. Concatenate x(and)v; if you get an error, observe and explain why did you get the error?"
      ],
      "metadata": {
        "id": "-UDlBmUm3xvO"
      }
    },
    {
      "cell_type": "code",
      "source": [
        "import numpy as np\n",
        "\n",
        "x = np.array([[1, 2], [3, 5]])\n",
        "y = np.array([[5, 6], [7, 8]])\n",
        "v = np.array([9, 10])\n",
        "w = np.array([11, 12])\n"
      ],
      "metadata": {
        "id": "jKzYRRKT3kQl"
      },
      "execution_count": null,
      "outputs": []
    },
    {
      "cell_type": "code",
      "source": [
        "add_result = x + y\n",
        "print(\"Addition of x and y:\\n\", add_result)\n"
      ],
      "metadata": {
        "id": "SRqMEw763kIm"
      },
      "execution_count": null,
      "outputs": []
    },
    {
      "cell_type": "code",
      "source": [
        "subtract_result = x - y\n",
        "print(\"Subtraction of x and y:\\n\", subtract_result)\n"
      ],
      "metadata": {
        "id": "OPGUJRSv3kHL"
      },
      "execution_count": null,
      "outputs": []
    },
    {
      "cell_type": "code",
      "source": [
        "multiply_result = x * 3  # Multiplying x by 3\n",
        "print(\"Multiplying x by 3:\\n\", multiply_result)\n"
      ],
      "metadata": {
        "id": "RVkIEPdR4ACV"
      },
      "execution_count": null,
      "outputs": []
    },
    {
      "cell_type": "code",
      "source": [
        "square_result = np.square(x)  # Square each element of x\n",
        "print(\"Square of each element of x:\\n\", square_result)\n"
      ],
      "metadata": {
        "id": "HC5uL8i94AAf"
      },
      "execution_count": null,
      "outputs": []
    },
    {
      "cell_type": "code",
      "source": [
        "dot_vw = np.dot(v, w)\n",
        "print(\"Dot product of v and w:\", dot_vw)\n",
        "\n",
        "dot_xv = np.dot(x, v)\n",
        "print(\"Dot product of x and v:\\n\", dot_xv)\n",
        "\n",
        "dot_xy = np.dot(x, y)\n",
        "print(\"Dot product of x and y:\\n\", dot_xy)\n"
      ],
      "metadata": {
        "id": "Z1kZpWG33_-7"
      },
      "execution_count": null,
      "outputs": []
    },
    {
      "cell_type": "code",
      "source": [
        "concat_xy_row = np.concatenate((x, y), axis=0)\n",
        "print(\"Concatenation of x and y along rows:\\n\", concat_xy_row)\n"
      ],
      "metadata": {
        "id": "ZgbD0nN53_8m"
      },
      "execution_count": null,
      "outputs": []
    },
    {
      "cell_type": "code",
      "source": [
        "concat_vw_column = np.concatenate((v[:, np.newaxis], w[:, np.newaxis]), axis=1)\n",
        "print(\"Concatenation of v and w along columns:\\n\", concat_vw_column)\n"
      ],
      "metadata": {
        "id": "mcIHwUys3_6w"
      },
      "execution_count": null,
      "outputs": []
    },
    {
      "cell_type": "code",
      "source": [
        "try:\n",
        "    concat_xv = np.concatenate((x, v), axis=1)  # This will raise an error\n",
        "except Exception as e:\n",
        "    print(\"Error when concatenating x and v:\", e)\n"
      ],
      "metadata": {
        "id": "xpgwzdHU3_4q"
      },
      "execution_count": null,
      "outputs": []
    },
    {
      "cell_type": "markdown",
      "source": [
        "The error occurs because x is a 2x2 array, and v is a 1D array of size 2. To concatenate along axis=1 (columns), both arrays must have the same number of rows.\n",
        "To fix this, v would need to be reshaped to be a 2x1 array, or the arrays would need to have the same number of dimensions."
      ],
      "metadata": {
        "id": "IY91fmdC4huq"
      }
    },
    {
      "cell_type": "markdown",
      "source": [
        "Problem - 4: Matrix Operations:\n",
        "• For the following arrays:\n",
        "A = np.array([[3,4],[7,8]]) and B = np.array([[5,3],[2,1]]);\n",
        "Prove following with Numpy:\n",
        "1. Prove A.A−1 = I.\n",
        "2. Prove AB ̸= BA.\n",
        "3. Prove (AB)\n",
        "\n",
        "T = BTAT\n",
        ".\n",
        "\n",
        "• Solve the following system of Linear equation using Inverse Methods.\n",
        "\n",
        "2x − 3y + z = −1\n",
        "x − y + 2z = −3\n",
        "3x + y − z = 9\n",
        "\n",
        "{Hint: First use Numpy array to represent the equation in Matrix form. Then Solve for: AX = B}\n",
        "\n",
        "• Now: solve the above equation using np.linalg.inv function.{Explore more about ”linalg” func-\n",
        "tion of Numpy}"
      ],
      "metadata": {
        "id": "pnG5Diuw4tcp"
      }
    },
    {
      "cell_type": "code",
      "source": [
        "import numpy as np\n",
        "\n",
        "A = np.array([[3, 4], [7, 8]])\n",
        "B = np.array([[5, 3], [2, 1]])\n"
      ],
      "metadata": {
        "id": "09Zf_dlo3_2U"
      },
      "execution_count": null,
      "outputs": []
    },
    {
      "cell_type": "code",
      "source": [
        "A_inv = np.linalg.inv(A)  # Inverse of A\n",
        "I = np.eye(2)  # Identity matrix of size 2x2\n",
        "result = np.dot(A, A_inv)\n",
        "\n",
        "print(\"A * A^-1:\\n\", result)\n",
        "print(\"Identity Matrix (I):\\n\", I)\n"
      ],
      "metadata": {
        "id": "i1YDSaHI3_0B"
      },
      "execution_count": null,
      "outputs": []
    },
    {
      "cell_type": "code",
      "source": [
        "AB = np.dot(A, B)\n",
        "BA = np.dot(B, A)\n",
        "\n",
        "print(\"AB:\\n\", AB)\n",
        "print(\"BA:\\n\", BA)\n",
        "\n",
        "# Check if AB == BA\n",
        "if np.array_equal(AB, BA):\n",
        "    print(\"AB equals BA\")\n",
        "else:\n",
        "    print(\"AB does not equal BA\")\n"
      ],
      "metadata": {
        "id": "EMkIGJsM3_xq"
      },
      "execution_count": null,
      "outputs": []
    },
    {
      "cell_type": "code",
      "source": [
        "AB_T = np.transpose(AB)\n",
        "BT_AT = np.dot(np.transpose(B), np.transpose(A))\n",
        "\n",
        "print(\"(AB)^T:\\n\", AB_T)\n",
        "print(\"B^T * A^T:\\n\", BT_AT)\n",
        "\n",
        "# Check if (AB)^T equals B^T * A^T\n",
        "if np.array_equal(AB_T, BT_AT):\n",
        "    print(\"(AB)^T equals B^T * A^T\")\n",
        "else:\n",
        "    print(\"(AB)^T does not equal B^T * A^T\")\n"
      ],
      "metadata": {
        "id": "_UfLZjU83_Ga"
      },
      "execution_count": null,
      "outputs": []
    },
    {
      "cell_type": "code",
      "source": [
        "# Define matrix A and vector B\n",
        "A_eq = np.array([[2, -3, 1], [1, -1, 2], [3, 1, -1]])\n",
        "B_eq = np.array([-1, -3, 9])\n",
        "\n",
        "# Solve for X using the inverse method: X = A^-1 * B\n",
        "A_inv_eq = np.linalg.inv(A_eq)\n",
        "X = np.dot(A_inv_eq, B_eq)\n",
        "\n",
        "print(\"Solution to the system of equations (x, y, z):\\n\", X)\n"
      ],
      "metadata": {
        "id": "kOsbEJZw3_DE"
      },
      "execution_count": null,
      "outputs": []
    },
    {
      "cell_type": "markdown",
      "source": [
        "##Experiment: How Fast is Numpy?"
      ],
      "metadata": {
        "id": "xRcjmwhU5XJL"
      }
    },
    {
      "cell_type": "markdown",
      "source": [
        "**1.Element-wise Addition:**\n",
        "\n",
        "• Using Python Lists, perform element-wise addition of two lists of size 1, 000, 000. Measure\n",
        "and Print the time taken for this operation.\n",
        "\n",
        "• Using Numpy Arrays, Repeat the calculation and measure and print the time taken for\n",
        "this operation."
      ],
      "metadata": {
        "id": "11_XCVw25bGX"
      }
    },
    {
      "cell_type": "code",
      "source": [
        "import time\n",
        "import numpy as np\n",
        "\n",
        "# Generate two lists of size 1,000,000\n",
        "list1 = [i for i in range(1000000)]\n",
        "list2 = [i for i in range(1000000, 2000000)]\n",
        "\n",
        "# Measure time for Python list element-wise addition\n",
        "start_time = time.time()\n",
        "list_sum = [list1[i] + list2[i] for i in range(1000000)]\n",
        "end_time = time.time()\n",
        "print(\"Time taken for element-wise addition using Python lists:\", end_time - start_time, \"seconds\")\n",
        "\n",
        "# Convert lists to numpy arrays\n",
        "np_array1 = np.array(list1)\n",
        "np_array2 = np.array(list2)\n",
        "\n",
        "# Measure time for Numpy array element-wise addition\n",
        "start_time = time.time()\n",
        "np_sum = np_array1 + np_array2\n",
        "end_time = time.time()\n",
        "print(\"Time taken for element-wise addition using Numpy arrays:\", end_time - start_time, \"seconds\")\n"
      ],
      "metadata": {
        "id": "IPx0cSvM3_A8"
      },
      "execution_count": null,
      "outputs": []
    },
    {
      "cell_type": "markdown",
      "source": [
        "**2.Element-wise Multiplication**\n",
        "\n",
        "• Using Python Lists, perform element-wise multiplication of two lists of size 1, 000, 000.\n",
        "Measure and Print the time taken for this operation.\n",
        "\n",
        "• Using Numpy Arrays, Repeat the calculation and measure and print the time taken for\n",
        "this operation."
      ],
      "metadata": {
        "id": "_px-O2nN5uFw"
      }
    },
    {
      "cell_type": "code",
      "source": [
        "import time\n",
        "import numpy as np\n",
        "\n",
        "# Generate two lists of size 1,000,000\n",
        "list1 = [i for i in range(1000000)]\n",
        "list2 = [i for i in range(1000000, 2000000)]\n",
        "\n",
        "# Measure time for Python list element-wise multiplication\n",
        "start_time = time.time()\n",
        "list_multiply = [list1[i] * list2[i] for i in range(1000000)]\n",
        "end_time = time.time()\n",
        "print(\"Time taken for element-wise multiplication using Python lists:\", end_time - start_time, \"seconds\")\n",
        "\n",
        "# Convert lists to numpy arrays\n",
        "np_array1 = np.array(list1)\n",
        "np_array2 = np.array(list2)\n",
        "\n",
        "# Measure time for Numpy array element-wise multiplication\n",
        "start_time = time.time()\n",
        "np_multiply = np_array1 * np_array2\n",
        "end_time = time.time()\n",
        "print(\"Time taken for element-wise multiplication using Numpy arrays:\", end_time - start_time, \"seconds\")\n"
      ],
      "metadata": {
        "id": "-fCFh1sK3-_X"
      },
      "execution_count": null,
      "outputs": []
    },
    {
      "cell_type": "markdown",
      "source": [
        "**3.Dot Product**\n",
        "\n",
        "• Using Python Lists, compute the dot product of two lists of size 1, 000, 000. Measure and\n",
        "Print the time taken for this operation.\n",
        "\n",
        "• Using Numpy Arrays, Repeat the calculation and measure and print the time taken for\n",
        "this operation."
      ],
      "metadata": {
        "id": "zg0lMkRM53vS"
      }
    },
    {
      "cell_type": "code",
      "source": [
        "import time\n",
        "import numpy as np\n",
        "\n",
        "# Generate two lists of size 1,000,000\n",
        "list1 = [i for i in range(1000000)]\n",
        "list2 = [i for i in range(1000000, 2000000)]\n",
        "\n",
        "# Measure time for Python list dot product\n",
        "start_time = time.time()\n",
        "dot_product_list = sum(list1[i] * list2[i] for i in range(1000000))\n",
        "end_time = time.time()\n",
        "print(\"Time taken for dot product using Python lists:\", end_time - start_time, \"seconds\")\n",
        "\n",
        "# Convert lists to numpy arrays\n",
        "np_array1 = np.array(list1)\n",
        "np_array2 = np.array(list2)\n",
        "\n",
        "# Measure time for Numpy array dot product\n",
        "start_time = time.time()\n",
        "dot_product_numpy = np.dot(np_array1, np_array2)\n",
        "end_time = time.time()\n",
        "print(\"Time taken for dot product using Numpy arrays:\", end_time - start_time, \"seconds\")\n"
      ],
      "metadata": {
        "id": "LbaA97_I3-9S"
      },
      "execution_count": null,
      "outputs": []
    },
    {
      "cell_type": "markdown",
      "source": [
        "**4.Matrix Multiplication**\n",
        "\n",
        "• Using Python lists, perform matrix multiplication of two matrices of size 1000x1000. Mea-\n",
        "sure and print the time taken for this operation.\n",
        "\n",
        "• Using NumPy arrays, perform matrix multiplication of two matrices of size 1000x1000.\n",
        "Measure and print the time taken for this operation."
      ],
      "metadata": {
        "id": "xmw0fQiK6E3i"
      }
    },
    {
      "cell_type": "code",
      "source": [
        "import time\n",
        "import numpy as np\n",
        "\n",
        "# Create two 1000x1000 matrices using Python lists\n",
        "matrix1 = [[i + j for j in range(1000)] for i in range(1000)]\n",
        "matrix2 = [[i - j for j in range(1000)] for i in range(1000)]\n",
        "\n",
        "# Matrix multiplication using Python lists\n",
        "start_time = time.time()\n",
        "result_list = [[sum(matrix1[i][k] * matrix2[k][j] for k in range(1000)) for j in range(1000)] for i in range(1000)]\n",
        "end_time = time.time()\n",
        "print(\"Time taken for matrix multiplication using Python lists:\", end_time - start_time, \"seconds\")\n",
        "\n",
        "# Create the same 1000x1000 matrices using NumPy arrays\n",
        "np_matrix1 = np.array(matrix1)\n",
        "np_matrix2 = np.array(matrix2)\n",
        "\n",
        "# Matrix multiplication using NumPy arrays\n",
        "start_time = time.time()\n",
        "result_numpy = np.dot(np_matrix1, np_matrix2)\n",
        "end_time = time.time()\n",
        "print(\"Time taken for matrix multiplication using Numpy arrays:\", end_time - start_time, \"seconds\")\n"
      ],
      "metadata": {
        "id": "7VysRlax3-7u"
      },
      "execution_count": null,
      "outputs": []
    },
    {
      "cell_type": "code",
      "source": [],
      "metadata": {
        "id": "4DP54DSO3-5p"
      },
      "execution_count": null,
      "outputs": []
    },
    {
      "cell_type": "code",
      "source": [],
      "metadata": {
        "id": "OiPjgFYD3-4F"
      },
      "execution_count": null,
      "outputs": []
    }
  ]
}